{
 "cells": [
  {
   "cell_type": "markdown",
   "metadata": {
    "id": "f42f1a68-ffdb-4c78-87e8-2ff7c9c6063b"
   },
   "source": [
    "# Db2 11.5.4 RESTful Programming\n",
    "The following notebook is a brief example of how to use the Db2 11.5.4 RESTful Endpoint service to extend the capabilies of Db2.\n",
    "\n",
    "Programmers can create Representational State Transfer (REST) endpoints that can be used to interact with Db2.\n",
    "\n",
    "Each endpoint is associated with a single SQL statement. Authenticated users of web, mobile, or cloud applications can use these REST endpoints from any REST HTTP client without having to install any Db2 drivers.\n",
    "\n",
    "The Db2 REST server accepts an HTTP request, processes the request body, and returns results in JavaScript Object Notation (JSON).\n",
    "\n",
    "The Db2 REST server is pre-installed and running on Docker on host3 (10.0.0.4) in the Demonstration cluster. As a programmer you can communicate with the service on port 50050. Your welcome note includes the external port you can use to interact with the Db2 RESTful Endpoint service directly.\n",
    "\n",
    "You can find more information about this service at: https://www.ibm.com/support/producthub/db2/docs/content/SSEPGG_11.5.0/com.ibm.db2.luw.admin.rest.doc/doc/c_rest.html."
   ]
  },
  {
   "cell_type": "markdown",
   "metadata": {
    "id": "a7f79a44-af03-4b0a-b8b6-43d688f35a92"
   },
   "source": [
    "### Finding the Db2 RESTful Endpoint Service API Documentation\n",
    "If you are running this notebook from a browser running inside the Cloud Pak for Data cluster, click: http://10.0.0.4:50050/docs If you are running this from a browser from your own desktop, check your welcome note for the address of the Db2 RESTful Service at port 50050."
   ]
  },
  {
   "cell_type": "markdown",
   "metadata": {
    "id": "008a80f6-507c-49e1-8116-9f02d6c9546b"
   },
   "source": [
    "## Getting Started\n",
    "Before you can start submitting SQL or creating your own services you need to complete a few setup steps. "
   ]
  },
  {
   "cell_type": "markdown",
   "metadata": {
    "id": "c53c4731-58a0-484c-97ec-17bcb98e2a0f"
   },
   "source": [
    "### Import the required programming libraries\n",
    "The requests library is the minimum required by Python to construct RESTful service calls. The Pandas library is used to format and manipulate JSON result sets as tables. The urllib3 library is used to manage secure https requests. "
   ]
  },
  {
   "cell_type": "code",
   "execution_count": null,
   "metadata": {
    "id": "e31419aa-20cf-48d9-a9de-43613e2cf422"
   },
   "outputs": [],
   "source": [
    "import requests\n",
    "import pandas as pd\n",
    "import urllib3"
   ]
  },
  {
   "cell_type": "markdown",
   "metadata": {
    "id": "fc346939-cd0a-40b7-b493-38cb66deed5b"
   },
   "source": [
    "### Create the Header File required for getting an authetication token\n",
    "We have to provide the location of the RESTful service for our calls.\n",
    "The RESTful call to the Db2 RESTful Endpoint service is contructed and transmitted as JSON. The first part of the JSON structure is the headers that define the content tyoe of the request."
   ]
  },
  {
   "cell_type": "code",
   "execution_count": null,
   "metadata": {
    "id": "bdd32947-c76b-4bad-9c96-c949a86b9036"
   },
   "outputs": [],
   "source": [
    "headers = {\n",
    "  \"content-type\": \"application/json\"\n",
    "}"
   ]
  },
  {
   "cell_type": "markdown",
   "metadata": {
    "id": "5b5ebdc9-8a92-430e-9336-dbd353cbabc7"
   },
   "source": [
    "### Define the RESTful Host\n",
    "The next part defines where the request is sent to. It provides the location of the RESTful service for our calls."
   ]
  },
  {
   "cell_type": "code",
   "execution_count": null,
   "metadata": {
    "id": "456aefd1-3559-4236-a08b-ec1bb1c0261c"
   },
   "outputs": [],
   "source": [
    "Db2RESTful = \"https://10.0.0.201:32115\""
   ]
  },
  {
   "cell_type": "markdown",
   "metadata": {
    "id": "75057cad-f97b-4782-b72b-001683415a41"
   },
   "source": [
    "### API Authentication Service\n",
    "Each service has its own path in the RESTful call. For authentication we need to point to the `v1/auth` service."
   ]
  },
  {
   "cell_type": "code",
   "execution_count": null,
   "metadata": {
    "id": "36d45067-9d67-47e3-bac6-d3310969ed09"
   },
   "outputs": [],
   "source": [
    "API_Auth = \"/v1/auth\""
   ]
  },
  {
   "cell_type": "markdown",
   "metadata": {
    "id": "ea338044-d893-423f-aec2-5064a0b32524"
   },
   "source": [
    "### Database Connection Information\n",
    "To authenticate to the RESTful service you must provide the connection information for the database along with the userid and password that you are using to authenticate with. You can also provide an expiry time so that the access token that gets returned will be invalidated after that time period."
   ]
  },
  {
   "cell_type": "code",
   "execution_count": null,
   "metadata": {
    "id": "cc0dc994-78f9-48a4-b9d7-fd8b74f0dce9"
   },
   "outputs": [],
   "source": [
    "body = {\n",
    "  \"dbParms\": {\n",
    "    \"dbHost\": \"10.0.0.201\",\n",
    "    \"dbName\": \"BLUDB\",\n",
    "    \"dbPort\": 31684,\n",
    "    \"isSSLConnection\": False,\n",
    "    \"username\": \"admin\",\n",
    "    \"password\": \"password\"\n",
    "  },\n",
    "  \"expiryTime\": \"8760h\"\n",
    "}"
   ]
  },
  {
   "cell_type": "markdown",
   "metadata": {
    "id": "dd7b51e4ca564d8fae41262fd280ff48"
   },
   "source": [
    "### Disabling HTTPS Warnings\n"
   ]
  },
  {
   "cell_type": "code",
   "execution_count": null,
   "metadata": {
    "id": "04f677afb0804b3e8851415c007d8e22"
   },
   "outputs": [],
   "source": [
    "urllib3.disable_warnings()"
   ]
  },
  {
   "cell_type": "markdown",
   "metadata": {
    "id": "6af7a468-04ef-4a42-9e25-2b4bc55e3419"
   },
   "source": [
    "### Retrieving an Access Token\n",
    "When communicating with the RESTful service, you must provide the name of the service that you want to interact with. In this case the authentication service is */v1/auth*. "
   ]
  },
  {
   "cell_type": "code",
   "execution_count": null,
   "metadata": {
    "id": "0ad807b4-c0b8-4987-b7c5-ab42b5822f84"
   },
   "outputs": [],
   "source": [
    "try:\n",
    "    response = requests.post(\"{}{}\".format(Db2RESTful,API_Auth), verify=False, headers=headers, json=body)\n",
    "    print (response)\n",
    "except Exception as e:\n",
    "    print(\"Unable to call RESTful service. Error={}\".format(repr(e)))"
   ]
  },
  {
   "cell_type": "markdown",
   "metadata": {
    "id": "c0b2e055-a549-40bc-966a-d9c5ee33c7c2"
   },
   "source": [
    "A response code of 200 means that the authentication worked properly, otherwise the error that was generated is printed. The response includes a connection token that is reused throughout the rest of this lab. It ensures secure a connection without requiring that you reenter a userid and password with each request."
   ]
  },
  {
   "cell_type": "code",
   "execution_count": null,
   "metadata": {
    "id": "6701f5bb-49e2-40de-98e3-4bf2fe0beb7e"
   },
   "outputs": [],
   "source": [
    "if (response.status_code == 200):\n",
    "  token = response.json()[\"token\"]\n",
    "  print(\"Token: {}\".format(token))\n",
    "else:\n",
    "  print(response.json()[\"errors\"])"
   ]
  },
  {
   "cell_type": "markdown",
   "metadata": {
    "id": "8fcb2521-11bd-446e-a376-625622ebf221"
   },
   "source": [
    "### Creating a standard reusable JSON header\n",
    "The standard header for all subsequent calls will use this format. It includes the access token."
   ]
  },
  {
   "cell_type": "code",
   "execution_count": null,
   "metadata": {
    "id": "55061cb2-53a6-4a00-871d-9a448cc6a695"
   },
   "outputs": [],
   "source": [
    "headers = {\n",
    "  \"authorization\": f\"{token}\",\n",
    "  \"content-type\": \"application/json\"\n",
    "}"
   ]
  },
  {
   "cell_type": "markdown",
   "metadata": {
    "id": "35e00f60-e5a6-470a-a11c-38a687676b93"
   },
   "source": [
    "## Executing an SQL Statement\n",
    "Before you try creating your own customer service endpoint, you can try using some of the built in services. These let you submit SQL statements in a variety of ways. \n",
    "\n",
    "Executing SQL requires a different service endpoint. In this case we will use \"/services/execsql\""
   ]
  },
  {
   "cell_type": "code",
   "execution_count": null,
   "metadata": {
    "id": "3533ad24-64e5-441e-b0da-de25508583a6"
   },
   "outputs": [],
   "source": [
    "API_execsql = \"/v1/services/execsql\""
   ]
  },
  {
   "cell_type": "markdown",
   "metadata": {
    "id": "0d2a000b-92ee-4092-b42e-4429ecf5d62d"
   },
   "source": [
    "In this example the code requests that the RESTful function waits until the command is complete."
   ]
  },
  {
   "cell_type": "code",
   "execution_count": null,
   "metadata": {
    "id": "ea016782-91fb-48d5-bd8e-42dd0889d7fe"
   },
   "outputs": [],
   "source": [
    "sql = \\\n",
    "\"\"\"\n",
    "SELECT AC.\"TAIL_NUMBER\", AC.\"MANUFACTURER\", AC.\"MODEL\", OT.\"FLIGHTDATE\", OT.\"UNIQUECARRIER\", OT.\"AIRLINEID\", OT.\"CARRIER\", OT.\"TAILNUM\", OT.\"FLIGHTNUM\", OT.\"ORIGINAIRPORTID\", OT.\"ORIGINAIRPORTSEQID\", OT.\"ORIGINCITYNAME\", OT.\"ORIGINSTATE\", OT.\"DESTAIRPORTID\", OT.\"DESTCITYNAME\", OT.\"DESTSTATE\", OT.\"DEPTIME\", OT.\"DEPDELAY\", OT.\"TAXIOUT\", OT.\"WHEELSOFF\", OT.\"WHEELSON\", OT.\"TAXIIN\", OT.\"ARRTIME\", OT.\"ARRDELAY\", OT.\"ARRDELAYMINUTES\", OT.\"CANCELLED\", OT.\"AIRTIME\", OT.\"DISTANCE\"\n",
    "  FROM \"ONTIME\".\"ONTIME\" OT, \"ONTIME\".\"AIRCRAFT\" AC \n",
    "  WHERE AC.\"TAIL_NUMBER\" = OT.TAILNUM\n",
    "  AND ORIGINSTATE = 'NJ'\n",
    "  AND DESTSTATE = 'CA'\n",
    "  AND AC.MANUFACTURER = 'Boeing' \n",
    "  AND AC.MODEL LIKE 'B737%'\n",
    "  AND OT.TAXIOUT > 30\n",
    "  AND OT.DISTANCE > 2000\n",
    "  AND OT.DEPDELAY > 300\n",
    "  ORDER BY OT.ARRDELAY;\n",
    "\"\"\""
   ]
  },
  {
   "cell_type": "code",
   "execution_count": null,
   "metadata": {
    "id": "89f58482-9d63-4580-935f-131c73061d8e"
   },
   "outputs": [],
   "source": [
    "body = {\n",
    "  \"isQuery\": True,\n",
    "  \"sqlStatement\": sql,\n",
    "  \"sync\": True\n",
    "}\n",
    "print(body)"
   ]
  },
  {
   "cell_type": "code",
   "execution_count": null,
   "metadata": {
    "id": "8f8ac5c4-ebf9-47d4-b18c-6d1b46164659"
   },
   "outputs": [],
   "source": [
    "def runStatement(sql, isQuery) :\n",
    "    body = {\n",
    "      \"isQuery\": isQuery,\n",
    "      \"sqlStatement\": sql,\n",
    "      \"sync\": True\n",
    "    }\n",
    "    try:\n",
    "        response = requests.post(\"{}{}\".format(Db2RESTful,API_execsql), verify=False, headers=headers, json=body)\n",
    "        return response\n",
    "    except Exception as e:\n",
    "        print(\"Unable to call RESTful service. Error={}\".format(repr(e)))"
   ]
  },
  {
   "cell_type": "code",
   "execution_count": null,
   "metadata": {
    "id": "b907fedc-293b-44d9-a3f4-e4d77a9a9133"
   },
   "outputs": [],
   "source": [
    "response = runStatement(sql, True)"
   ]
  },
  {
   "cell_type": "markdown",
   "metadata": {
    "id": "e49601ee-5031-4b44-ad4b-80a58cf37c03"
   },
   "source": [
    "If the successful call returns a **200** response code."
   ]
  },
  {
   "cell_type": "code",
   "execution_count": null,
   "metadata": {
    "id": "7aed03d4-7ca7-4467-b7e0-588be7071f55"
   },
   "outputs": [],
   "source": [
    "print(response)"
   ]
  },
  {
   "cell_type": "markdown",
   "metadata": {
    "id": "dcd7b561-5a8f-4ac7-9ab0-9307668ef97b"
   },
   "source": [
    "Now that you know the call is a success, you can retrieve the json in the result set."
   ]
  },
  {
   "cell_type": "code",
   "execution_count": null,
   "metadata": {
    "id": "51682e17-2818-449f-9335-79f9b50c937b"
   },
   "outputs": [],
   "source": [
    "print(response.json()[\"resultSet\"])"
   ]
  },
  {
   "cell_type": "markdown",
   "metadata": {
    "id": "cfadfbfd-f4dd-4365-b50c-7c77d5c8751a"
   },
   "source": [
    "To format the results, use a Pandas Dataframe class to convert the json result set into a table. Dataframes can be used to further manipulate results in Python."
   ]
  },
  {
   "cell_type": "code",
   "execution_count": null,
   "metadata": {
    "id": "2e18ebfc-22e5-4c46-ac13-6769c4626a9c"
   },
   "outputs": [],
   "source": [
    "display(pd.DataFrame(response.json()['resultSet']))"
   ]
  },
  {
   "cell_type": "markdown",
   "metadata": {
    "id": "f178a907-b6f7-43eb-b0dd-b522370a72b6"
   },
   "source": [
    "## Use Parameters in a SQL Statement\n",
    "Simple parameter passing is also available through the execsql service. In this case we are passing the employee number into the query to retrieve the full employee record. Try substituting different employee numbers and run the REST call again. For example, you can change \"000010\" to \"000020\", or \"000030\"."
   ]
  },
  {
   "cell_type": "code",
   "execution_count": null,
   "metadata": {
    "id": "50bb25ac-7e38-4634-9a35-7415a28d187e"
   },
   "outputs": [],
   "source": [
    "sqlparm = \\\n",
    "\"\"\"\n",
    "SELECT AC.\"TAIL_NUMBER\", AC.\"MANUFACTURER\", AC.\"MODEL\", OT.\"FLIGHTDATE\", OT.\"UNIQUECARRIER\", OT.\"AIRLINEID\", OT.\"CARRIER\", OT.\"TAILNUM\", OT.\"FLIGHTNUM\", OT.\"ORIGINAIRPORTID\", OT.\"ORIGINAIRPORTSEQID\", OT.\"ORIGINCITYNAME\", OT.\"ORIGINSTATE\", OT.\"DESTAIRPORTID\", OT.\"DESTCITYNAME\", OT.\"DESTSTATE\", OT.\"DEPTIME\", OT.\"DEPDELAY\", OT.\"TAXIOUT\", OT.\"WHEELSOFF\", OT.\"WHEELSON\", OT.\"TAXIIN\", OT.\"ARRTIME\", OT.\"ARRDELAY\", OT.\"ARRDELAYMINUTES\", OT.\"CANCELLED\", OT.\"AIRTIME\", OT.\"DISTANCE\"\n",
    "  FROM \"ONTIME\".\"ONTIME\" OT, \"ONTIME\".\"AIRCRAFT\" AC \n",
    "  WHERE AC.\"TAIL_NUMBER\" = OT.TAILNUM\n",
    "  AND ORIGINSTATE = 'NJ'\n",
    "  AND DESTSTATE = 'CA'\n",
    "  AND AC.MANUFACTURER = 'Boeing' \n",
    "  AND AC.MODEL LIKE 'B737%'\n",
    "  AND OT.TAXIOUT > 30\n",
    "  AND OT.DISTANCE > 2000\n",
    "  AND OT.DEPDELAY > ?\n",
    "  ORDER BY OT.ARRDELAY;\n",
    "\"\"\"\n",
    "\n",
    "body = {\n",
    "  \"isQuery\": True,\n",
    "  \"parameters\" : {\n",
    "      \"1\" : 300\n",
    "  },\n",
    "  \"sqlStatement\": sqlparm,\n",
    "  \"sync\": True\n",
    "}"
   ]
  },
  {
   "cell_type": "code",
   "execution_count": null,
   "metadata": {
    "id": "b68d1fa2-075b-41ac-9ce9-7316d9dec413"
   },
   "outputs": [],
   "source": [
    "try:\n",
    "    response = requests.post(\"{}{}\".format(Db2RESTful,API_execsql), verify=False, headers=headers, json=body)\n",
    "except Exception as e:\n",
    "    print(\"Unable to call RESTful service. Error={}\".format(repr(e)))"
   ]
  },
  {
   "cell_type": "code",
   "execution_count": null,
   "metadata": {
    "id": "ac4ebd03-5d2f-4dd4-9acc-7a78fc58d2ed"
   },
   "outputs": [],
   "source": [
    "print(response)"
   ]
  },
  {
   "cell_type": "code",
   "execution_count": null,
   "metadata": {
    "id": "a3942a7a-afac-41c2-a495-3b831fc933a3"
   },
   "outputs": [],
   "source": [
    "response.json()[\"resultSet\"]"
   ]
  },
  {
   "cell_type": "code",
   "execution_count": null,
   "metadata": {
    "id": "11123345-1965-4740-a46d-56ec4f479eaa"
   },
   "outputs": [],
   "source": [
    "display(pd.DataFrame(response.json()['resultSet']))"
   ]
  },
  {
   "cell_type": "markdown",
   "metadata": {
    "id": "51fcb069-cd59-4d03-8bf3-7020bd405c9b"
   },
   "source": [
    "## Generate a Call and don't wait for the results\n",
    "If you know that your statement will take a long time to return a result, you can check back later. Turn **sync** off to avoid waiting."
   ]
  },
  {
   "cell_type": "code",
   "execution_count": null,
   "metadata": {
    "id": "978f96ed-aff8-4b0c-9df9-dd25ca9cf98c"
   },
   "outputs": [],
   "source": [
    "sql = \\\n",
    "\"\"\"\n",
    "SELECT AC.\"TAIL_NUMBER\", AC.\"MANUFACTURER\", AC.\"MODEL\", OT.\"FLIGHTDATE\", OT.\"UNIQUECARRIER\", OT.\"AIRLINEID\", OT.\"CARRIER\", OT.\"TAILNUM\", OT.\"FLIGHTNUM\", OT.\"ORIGINAIRPORTID\", OT.\"ORIGINAIRPORTSEQID\", OT.\"ORIGINCITYNAME\", OT.\"ORIGINSTATE\", OT.\"DESTAIRPORTID\", OT.\"DESTCITYNAME\", OT.\"DESTSTATE\", OT.\"DEPTIME\", OT.\"DEPDELAY\", OT.\"TAXIOUT\", OT.\"WHEELSOFF\", OT.\"WHEELSON\", OT.\"TAXIIN\", OT.\"ARRTIME\", OT.\"ARRDELAY\", OT.\"ARRDELAYMINUTES\", OT.\"CANCELLED\", OT.\"AIRTIME\", OT.\"DISTANCE\"\n",
    "  FROM \"ONTIME\".\"ONTIME\" OT, \"ONTIME\".\"AIRCRAFT\" AC \n",
    "  WHERE AC.\"TAIL_NUMBER\" = OT.TAILNUM\n",
    "  AND ORIGINSTATE = 'NJ'\n",
    "  AND DESTSTATE = 'CA'\n",
    "  AND AC.MANUFACTURER = 'Boeing' \n",
    "  AND AC.MODEL LIKE 'B737%'\n",
    "  AND OT.TAXIOUT > 30\n",
    "  AND OT.DISTANCE > 2000\n",
    "  AND OT.DEPDELAY > 300\n",
    "  ORDER BY OT.ARRDELAY;\n",
    "\"\"\"\n",
    "\n",
    "body = {\n",
    "  \"isQuery\": True,\n",
    "  \"sqlStatement\": sql,\n",
    "  \"sync\": False\n",
    "}"
   ]
  },
  {
   "cell_type": "code",
   "execution_count": null,
   "metadata": {
    "id": "3d6f20bc-eea2-4732-9ff0-eda702d7f635"
   },
   "outputs": [],
   "source": [
    "try:\n",
    "    response = requests.post(\"{}{}\".format(Db2RESTful,API_execsql), verify=False, headers=headers, json=body)\n",
    "except Exception as e:\n",
    "    print(\"Unable to call RESTful service. Error={}\".format(repr(e)))"
   ]
  },
  {
   "cell_type": "code",
   "execution_count": null,
   "metadata": {
    "id": "e0cea7ef-2605-4485-b689-49c1b7c796f6"
   },
   "outputs": [],
   "source": [
    "print(response)"
   ]
  },
  {
   "cell_type": "markdown",
   "metadata": {
    "id": "faca0a54-b528-4fe4-b150-6768744a9288"
   },
   "source": [
    "Retrieve the job id, so that you can retrieve the results later."
   ]
  },
  {
   "cell_type": "code",
   "execution_count": null,
   "metadata": {
    "id": "0fdf0ed8-ead0-4999-9d98-778e9dc64ba9"
   },
   "outputs": [],
   "source": [
    "job_id = response.json()[\"id\"]"
   ]
  },
  {
   "cell_type": "code",
   "execution_count": null,
   "metadata": {
    "id": "c2b89110-babf-40b5-a1d4-491046be9659"
   },
   "outputs": [],
   "source": [
    "print(job_id)"
   ]
  },
  {
   "cell_type": "markdown",
   "metadata": {
    "id": "f6b9c5a8-5f39-474e-9085-9b01af7021de"
   },
   "source": [
    "## Retrieve Result set using Job ID\n",
    "The service API needs to be appended with the Job ID."
   ]
  },
  {
   "cell_type": "code",
   "execution_count": null,
   "metadata": {
    "id": "1a52adfd-bd94-413d-abc6-c27dd492d5f5"
   },
   "outputs": [],
   "source": [
    "API_get = \"/v1/services/\""
   ]
  },
  {
   "cell_type": "markdown",
   "metadata": {
    "id": "de49a95f-ae95-4be0-a553-ad060b7693f0"
   },
   "source": [
    "We can limit the number of rows that we return at a time. Setting the limit to zero means all of the rows are to be returned."
   ]
  },
  {
   "cell_type": "code",
   "execution_count": null,
   "metadata": {
    "id": "fa48559d-25a8-4114-8021-3fee854f07ee"
   },
   "outputs": [],
   "source": [
    "body = {\n",
    "  \"limit\": 0\n",
    "}"
   ]
  },
  {
   "cell_type": "markdown",
   "metadata": {
    "id": "1aa1cea8-aa52-4796-978c-7bdfff66bffd"
   },
   "source": [
    "Get the results."
   ]
  },
  {
   "cell_type": "code",
   "execution_count": null,
   "metadata": {
    "id": "4ffe84c4-68e3-4c4e-ac04-8d616931dc85"
   },
   "outputs": [],
   "source": [
    "try:\n",
    "    response = requests.get(\"{}{}{}\".format(Db2RESTful,API_get,job_id), verify=False, headers=headers, json=body)\n",
    "except Exception as e:\n",
    "    print(\"Unable to call RESTful service. Error={}\".format(repr(e)))"
   ]
  },
  {
   "cell_type": "code",
   "execution_count": null,
   "metadata": {
    "id": "15e73cd8-29b3-4d5e-bf27-f37958efb15d"
   },
   "outputs": [],
   "source": [
    "print(response)"
   ]
  },
  {
   "cell_type": "markdown",
   "metadata": {
    "id": "f593f1d9-377c-402d-b985-1fe7d788dce5"
   },
   "source": [
    "Retrieve the results."
   ]
  },
  {
   "cell_type": "code",
   "execution_count": null,
   "metadata": {
    "id": "0de803f2-0d2b-4553-8b8b-b3001a04ede7"
   },
   "outputs": [],
   "source": [
    "display(pd.DataFrame(response.json()['resultSet']))"
   ]
  },
  {
   "cell_type": "markdown",
   "metadata": {
    "id": "ae1606c0-a714-4417-b26f-9eb2f9f907f1"
   },
   "source": [
    "Now that you have some experience with the built in SQL service, you can try creating your own endpoint service. "
   ]
  },
  {
   "cell_type": "markdown",
   "metadata": {
    "id": "0945ed82-87ee-4e6a-b2ba-51afb9baa6c1"
   },
   "source": [
    "## Using RESTful Endpoint Services\n",
    "The most common way of interacting with the service is to fully encapsulate an SQL statement, including any parameters, in a unique RESTful service. This creates a secure separation between the database service and the RESTful programming service. It also allows you to create versions of the same service to make maintenance and evolution of programming models simple and predictable."
   ]
  },
  {
   "cell_type": "markdown",
   "metadata": {
    "id": "8cf886f3-e3f8-44a6-9c72-73d12fa4414b"
   },
   "source": [
    "### Setup the Meta Data Tables and Stored Procedures to manage Endpoint Services\n",
    "Before you can start defining and running your own RESTful Endpoint services you need call the service to create the table and stored procedures in the database you are using. "
   ]
  },
  {
   "cell_type": "code",
   "execution_count": null,
   "metadata": {
    "id": "80773185-b9b2-4c79-91de-c1693c7117b4"
   },
   "outputs": [],
   "source": [
    "API_makerest = \"/v1/metadata/setup\""
   ]
  },
  {
   "cell_type": "markdown",
   "metadata": {
    "id": "2b6c7ce2-d2c4-4618-b493-260cd122e2e2"
   },
   "source": [
    "You can specify the schema that the new table and stored procedures will be created in. In this example we will use **DB2REST**"
   ]
  },
  {
   "cell_type": "code",
   "execution_count": null,
   "metadata": {
    "id": "f8760474-46a4-4eea-a707-f8ed83718102"
   },
   "outputs": [],
   "source": [
    "body = {\n",
    "  \"schema\": \"DB2REST\"\n",
    "}"
   ]
  },
  {
   "cell_type": "code",
   "execution_count": null,
   "metadata": {
    "id": "0b9b91b0-9b6a-44fa-aed8-b2646856d89b"
   },
   "outputs": [],
   "source": [
    "try:\n",
    "    response = requests.post(\"{}{}\".format(Db2RESTful,API_makerest), verify=False, headers=headers, json=body)\n",
    "except Exception as e:\n",
    "    print(\"Unable to call RESTful service. Error={}\".format(repr(e)))"
   ]
  },
  {
   "cell_type": "markdown",
   "metadata": {
    "id": "28c798e2-d0a1-450b-9371-9fce25ea3d73"
   },
   "source": [
    "If the process is successful the service returns a 201 status code."
   ]
  },
  {
   "cell_type": "code",
   "execution_count": null,
   "metadata": {
    "id": "59c25964-2fff-446c-9a92-7aa64b8ca9c5"
   },
   "outputs": [],
   "source": [
    "if (response.status_code == 201):\n",
    "  print(response.reason)\n",
    "else:\n",
    "  print(response.json())"
   ]
  },
  {
   "cell_type": "markdown",
   "metadata": {
    "id": "41fad188-864c-4895-8c9e-9854db26a7c1"
   },
   "source": [
    "### Create a RESTful Service\n",
    "Now that the RESTful Service metadata is created in your database, you can create your first service. In this example you will pass an employee numb er, a 6 character string, to the service. It will return the department number of the employee."
   ]
  },
  {
   "cell_type": "code",
   "execution_count": null,
   "metadata": {
    "id": "49fc4cf5-5827-42a5-bd40-a6c7bf199a24"
   },
   "outputs": [],
   "source": [
    "API_makerest = \"/v1/services\""
   ]
  },
  {
   "cell_type": "markdown",
   "metadata": {
    "id": "34f98bcd-436d-4ea2-a52d-fb319423ccca"
   },
   "source": [
    "The first step is to define the SQL that we want in the RESTful call. Parameters are identified using an ampersand \"@\". Notice that our SQL is nicely formatted to make this notebook easier to ready. However when creating a service it is good practice to remove the line break characters from your SQL statement. "
   ]
  },
  {
   "cell_type": "code",
   "execution_count": null,
   "metadata": {
    "id": "100dae29-4c8c-4855-960a-3d88c8a96355"
   },
   "outputs": [],
   "source": [
    "sql = \\\n",
    "\"\"\"\n",
    "SELECT COUNT(AC.\"TAIL_NUMBER\") FROM \"ONTIME\".\"ONTIME\" OT, \"ONTIME\".\"AIRCRAFT\" AC \n",
    "  WHERE AC.\"TAIL_NUMBER\" = OT.TAILNUM\n",
    "  AND ORIGINSTATE = @STATE\n",
    "  AND DESTSTATE = 'CA'\n",
    "  AND AC.MANUFACTURER = 'Boeing' \n",
    "  AND AC.MODEL LIKE 'B737%'\n",
    "  AND OT.TAXIOUT > 30\n",
    "  AND OT.DISTANCE > 2000\n",
    "  AND OT.DEPDELAY > @DELAY\n",
    "  FETCH FIRST 5 ROWS ONLY\n",
    "\"\"\"\n",
    "sql = sql.replace(\"\\n\",\"\")"
   ]
  },
  {
   "cell_type": "markdown",
   "metadata": {
    "id": "e92d29e9-7c47-400d-9fa6-e6e9255e9f83"
   },
   "source": [
    "The next step is defining the json body to send along with the REST call."
   ]
  },
  {
   "cell_type": "code",
   "execution_count": null,
   "metadata": {
    "id": "d8d33c00-45eb-4311-afab-caeabc4e001f"
   },
   "outputs": [],
   "source": [
    "body = {\"isQuery\": True,\n",
    "       \"parameters\": [\n",
    "         {\n",
    "         \"datatype\": \"CHAR(2)\",\n",
    "         \"name\": \"@STATE\"\n",
    "         },\n",
    "         {\n",
    "         \"datatype\": \"INT\",\n",
    "         \"name\": \"@DELAY\"    \n",
    "         }\n",
    "       ],\n",
    "       \"schema\": \"DEMO\",\n",
    "       \"serviceDescription\": \"Delay\",\n",
    "       \"serviceName\": \"delay\",\n",
    "       \"sqlStatement\": sql,\n",
    "       \"version\": \"1.0\"\n",
    "}"
   ]
  },
  {
   "cell_type": "markdown",
   "metadata": {
    "id": "baa1bd24-ebd3-46ad-b409-60758766a9bd"
   },
   "source": [
    "Now submit the full RESTful call to create the new service. "
   ]
  },
  {
   "cell_type": "code",
   "execution_count": null,
   "metadata": {
    "id": "99e47ddf-b990-47d3-b152-3fe1b90a85cb"
   },
   "outputs": [],
   "source": [
    "try:\n",
    "    response = requests.post(\"{}{}\".format(Db2RESTful,API_makerest), verify=False, headers=headers, json=body)\n",
    "except Exception as e:\n",
    "    print(\"Unable to call RESTful service. Error={}\".format(repr(e)))"
   ]
  },
  {
   "cell_type": "code",
   "execution_count": null,
   "metadata": {
    "id": "a7abc4b7-98e2-4b5e-a03d-32211187a073"
   },
   "outputs": [],
   "source": [
    "print(response)"
   ]
  },
  {
   "cell_type": "markdown",
   "metadata": {
    "id": "b1ea5155-3675-483e-83dc-3a7f143ad473"
   },
   "source": [
    "### Call the new RESTful Service\n",
    "Now you can call the RESTful service. In this case we will pass the stock symbol CAT. But like in the previous example you can try rerunning the service call with different stock symbols."
   ]
  },
  {
   "cell_type": "code",
   "execution_count": null,
   "metadata": {
    "id": "dbee21c3-5c1a-45e3-a6e4-bdc462f82f09"
   },
   "outputs": [],
   "source": [
    "API_runrest = \"/v1/services/delay/1.0\""
   ]
  },
  {
   "cell_type": "code",
   "execution_count": null,
   "metadata": {
    "id": "2e6699c0-5144-4a34-a623-c98862d8c077"
   },
   "outputs": [],
   "source": [
    "body = {\n",
    "  \"parameters\": {\n",
    "    \"@STATE\": \"NY\",\"@DELAY\":\"300\"\n",
    "  },\n",
    "  \"sync\": True\n",
    "}"
   ]
  },
  {
   "cell_type": "code",
   "execution_count": null,
   "metadata": {
    "id": "0368c91b-367f-4ecf-90f1-196e089c48fb"
   },
   "outputs": [],
   "source": [
    "try:\n",
    "    response = requests.post(\"{}{}\".format(Db2RESTful,API_runrest), verify=False, headers=headers, json=body)\n",
    "except Exception as e:\n",
    "    print(\"Unable to call RESTful service. Error={}\".format(repr(e)))"
   ]
  },
  {
   "cell_type": "code",
   "execution_count": null,
   "metadata": {
    "id": "46b93bb6-3386-4733-9ea3-2772524c0e7f"
   },
   "outputs": [],
   "source": [
    "print(\"{}{}\".format(Db2RESTful,API_runrest))"
   ]
  },
  {
   "cell_type": "code",
   "execution_count": null,
   "metadata": {
    "id": "194293f3-c47e-4777-a099-cb6927a94458"
   },
   "outputs": [],
   "source": [
    "print(response)"
   ]
  },
  {
   "cell_type": "code",
   "execution_count": null,
   "metadata": {
    "id": "2ef7d689-3676-42c4-aab5-286bbb77efca"
   },
   "outputs": [],
   "source": [
    "print(response.json())"
   ]
  },
  {
   "cell_type": "markdown",
   "metadata": {
    "id": "d4f4e267-7525-4b34-9699-0f835d3b41ba"
   },
   "source": [
    "You can retrieve the result set, convert it into a Dataframe and display the table."
   ]
  },
  {
   "cell_type": "code",
   "execution_count": null,
   "metadata": {
    "id": "a2c651d5-08c8-41c7-98aa-e3586b11febc"
   },
   "outputs": [],
   "source": [
    "display(pd.DataFrame(response.json()['resultSet']))"
   ]
  },
  {
   "cell_type": "markdown",
   "metadata": {
    "id": "52941f5e-7754-484c-8976-8ce9ef58fdcd"
   },
   "source": [
    "## Loop through the new call\n",
    "Now you can call the RESTful service with different values."
   ]
  },
  {
   "cell_type": "code",
   "execution_count": null,
   "metadata": {
    "id": "54cb013c-f41c-4635-851a-871b17bbfaab"
   },
   "outputs": [],
   "source": [
    "API_runrest = \"/v1/services/delay/1.0\""
   ]
  },
  {
   "cell_type": "code",
   "execution_count": null,
   "metadata": {
    "id": "131ae69b-2b7f-4345-91a7-e66173517faf"
   },
   "outputs": [],
   "source": [
    "repeat = 2\n",
    "for x in range(0, repeat):\n",
    "    for state in (\"OH\", \"NJ\", \"NY\", \"FL\", \"MI\"):\n",
    "\n",
    "        body = {\n",
    "          \"parameters\": {\n",
    "            \"@STATE\": state,\"@DELAY\": \"240\"\n",
    "          },\n",
    "          \"sync\": True\n",
    "        }\n",
    "        try:\n",
    "            response = requests.post(\"{}{}\".format(Db2RESTful,API_runrest), verify=False, headers=headers, json=body)\n",
    "            print(state + \": \" + str(response.json()['resultSet']))\n",
    "        except Exception as e:\n",
    "            print(\"Unable to call RESTful service. Error={}\".format(repr(e)))"
   ]
  },
  {
   "cell_type": "markdown",
   "metadata": {
    "id": "1635afa4-07cf-4290-bf29-bb84c08b0ac7"
   },
   "source": [
    "## Managing Your Services \n",
    "There are several service calls you can use to help manage the Db2 RESTful Endpoint service. "
   ]
  },
  {
   "cell_type": "markdown",
   "metadata": {
    "id": "8d884426-faa1-4ba4-b92c-766b81867cac"
   },
   "source": [
    "## List Available Services\n",
    "You can also list all the user defined services you have access to"
   ]
  },
  {
   "cell_type": "code",
   "execution_count": null,
   "metadata": {
    "id": "ecbae454-2262-4c10-b505-2c92962aed44"
   },
   "outputs": [],
   "source": [
    "API_listrest = \"/v1/services\""
   ]
  },
  {
   "cell_type": "code",
   "execution_count": null,
   "metadata": {
    "id": "da7c7ffe-2ae5-4ff0-9cb8-9b1df752798e"
   },
   "outputs": [],
   "source": [
    "try:\n",
    "    response = requests.get(\"{}{}\".format(Db2RESTful,API_listrest), verify=False, headers=headers)\n",
    "except Exception as e:\n",
    "    print(\"Unable to call RESTful service. Error={}\".format(repr(e)))"
   ]
  },
  {
   "cell_type": "code",
   "execution_count": null,
   "metadata": {
    "id": "432bb3f9-8fd5-497d-9f1f-a43191c2bf3d"
   },
   "outputs": [],
   "source": [
    "print(response.json())"
   ]
  },
  {
   "cell_type": "code",
   "execution_count": null,
   "metadata": {
    "id": "20cf5fa9-c237-4e91-92ab-7d76189ca23f"
   },
   "outputs": [],
   "source": [
    "display(pd.DataFrame(response.json()['Db2Services']))"
   ]
  },
  {
   "cell_type": "markdown",
   "metadata": {
    "id": "7ae00b11-0a76-4718-aa5e-cd85531c6a73"
   },
   "source": [
    "## Get Service Details\n",
    "You can also get the details of a service"
   ]
  },
  {
   "cell_type": "code",
   "execution_count": null,
   "metadata": {
    "id": "8ddb986f-2ad1-4954-a9a1-0b40c830c08e"
   },
   "outputs": [],
   "source": [
    "API_getDetails = \"/v1/services/delay/3.0\""
   ]
  },
  {
   "cell_type": "code",
   "execution_count": null,
   "metadata": {
    "id": "c770580b-0c41-4a7b-bd58-30f5d2b06e10"
   },
   "outputs": [],
   "source": [
    "try:\n",
    "    response = requests.get(\"{}{}\".format(Db2RESTful,API_getDetails), verify=False, headers=headers)\n",
    "except Exception as e:\n",
    "    print(\"Unable to call RESTful service. Error={}\".format(repr(e)))"
   ]
  },
  {
   "cell_type": "code",
   "execution_count": null,
   "metadata": {
    "id": "6c51d8c2-df7e-4cca-ac88-6e5a1655d6d6"
   },
   "outputs": [],
   "source": [
    "json = response.json()\n",
    "print(json)"
   ]
  },
  {
   "cell_type": "markdown",
   "metadata": {
    "id": "abf25b40-7005-4b2c-891b-e6451e61eaf0"
   },
   "source": [
    "You can format the result to make it easier to ready. For example, here are the input and outputs."
   ]
  },
  {
   "cell_type": "code",
   "execution_count": null,
   "metadata": {
    "id": "a3aa0b32-607e-4eac-810b-71d2a0cdbe1e"
   },
   "outputs": [],
   "source": [
    "display(pd.DataFrame(json['inputParameters']))\n",
    "display(pd.DataFrame(json['resultSetFields']))"
   ]
  },
  {
   "cell_type": "markdown",
   "metadata": {
    "id": "28d4250a-cb29-4486-addd-9b88523596ab"
   },
   "source": [
    "## Delete a Service\n",
    "A single call is also available to delete a service"
   ]
  },
  {
   "cell_type": "code",
   "execution_count": null,
   "metadata": {
    "id": "871efa3f-0f56-43fe-96b5-7d6c3f6e6613"
   },
   "outputs": [],
   "source": [
    "API_deleteService = \"/v1/services\"\n",
    "Service = \"/delay\"\n",
    "Version = \"/1.0\""
   ]
  },
  {
   "cell_type": "code",
   "execution_count": null,
   "metadata": {
    "id": "0b9fb0b4-f482-476c-b6f2-3814af921dc0"
   },
   "outputs": [],
   "source": [
    "try:\n",
    "    response = requests.delete(\"{}{}{}{}\".format(Db2RESTful,API_deleteService,Service,Version), verify=False, headers=headers)\n",
    "except Exception as e:\n",
    "    print(\"Unable to call RESTful service. Error={}\".format(repr(e)))"
   ]
  },
  {
   "cell_type": "code",
   "execution_count": null,
   "metadata": {
    "id": "97836b9d-fcda-4987-ac71-bf8ebfd368ff"
   },
   "outputs": [],
   "source": [
    "print (response)"
   ]
  },
  {
   "cell_type": "markdown",
   "metadata": {
    "id": "7ac85903-0dec-4278-93f3-d9db31f8ee74"
   },
   "source": [
    "## Get Service Logs\n",
    "You can also easily download the Db2 RESTful Endpoint service logs. "
   ]
  },
  {
   "cell_type": "code",
   "execution_count": null,
   "metadata": {
    "id": "6e89ea9a-cdfa-4231-aa7c-0a134d65c608"
   },
   "outputs": [],
   "source": [
    "API_listrest = \"/v1/logs\""
   ]
  },
  {
   "cell_type": "code",
   "execution_count": null,
   "metadata": {
    "id": "763441cc-3721-45a8-a7aa-388cc925c96c"
   },
   "outputs": [],
   "source": [
    "try:\n",
    "    response = requests.get(\"{}{}\".format(Db2RESTful,API_listrest), verify=False, headers=headers)\n",
    "except Exception as e:\n",
    "    print(\"Unable to call RESTful service. Error={}\".format(repr(e)))"
   ]
  },
  {
   "cell_type": "code",
   "execution_count": null,
   "metadata": {
    "id": "e4357bd1-bc01-48a3-a906-e404effc6e7f"
   },
   "outputs": [],
   "source": [
    "if (response.status_code == 200):\n",
    "  myFile = response.content\n",
    "  open('/tmp/logs.zip', 'wb').write(myFile)\n",
    "  print(\"Downloaded\",len(myFile),\"bytes.\")\n",
    "else:\n",
    "  print(response.json())"
   ]
  },
  {
   "cell_type": "markdown",
   "metadata": {
    "id": "b6c84432-577d-46d4-8de9-5710b0fbce96"
   },
   "source": [
    "To see the content of the logs, open the Files browser on machine host3 (10.0.0.4). Navigate to the **/tmp** directory and unzip the logs file. "
   ]
  },
  {
   "cell_type": "markdown",
   "metadata": {
    "id": "75cc35e4-dc79-49c7-8cb3-130d3d78c194"
   },
   "source": [
    "## Using the Db2 REST Class\n",
    "For your convenience, everything in the lessons above has been included into a Db2REST Python Class. You can add or use this code as part of your own Jupyter notebooks to make working with the Db2 RESTful Endpoint service quick and easy. \n",
    "\n",
    "There are also lots of examples in the following lesson on how to use the class."
   ]
  },
  {
   "cell_type": "code",
   "execution_count": null,
   "metadata": {
    "id": "246fdfb4-e5b1-4d89-bb8a-5a7a5988f6aa"
   },
   "outputs": [],
   "source": [
    "# Run the Db2REST Class library\n",
    "# Used to construct and reuse an Autentication Key\n",
    "# Used to construct RESTAPI URLs and JSON payloads\n",
    "import json\n",
    "import requests\n",
    "import pandas as pd\n",
    "\n",
    "class Db2REST():\n",
    "    \n",
    "    def __init__(self, RESTServiceURL):\n",
    "        self.headers = {\"content-type\": \"application/json\"}\n",
    "        self.RESTServiceURL = RESTServiceURL\n",
    "        self.version = \"/v1\"\n",
    "        self.API_auth = self.version + \"/auth\"\n",
    "        self.API_makerest = self.version + \"/metadata/setup\"\n",
    "        self.API_services = self.version + \"/services/\"       \n",
    "        self.API_version = self.version + \"/version/\"      \n",
    "        self.API_execsql = self.API_services + \"execsql\"\n",
    "        self.API_monitor = self.API_services + \"monitor\" \n",
    "        \n",
    "        self.Verify = False\n",
    "        \n",
    "        import urllib3\n",
    "        urllib3.disable_warnings()\n",
    "        \n",
    "    def connectDatabase(self, dbHost, dbName, dbPort, isSSLConnection, dbUsername, dbPassword, expiryTime=\"300m\"):\n",
    "        self.dbHost = dbHost\n",
    "        self.dbName = dbName\n",
    "        self.dbPort = dbPort\n",
    "        self.isSSLConnection = isSSLConnection\n",
    "        self.dbusername = dbUsername\n",
    "        self.dbpassword = dbPassword      \n",
    "        self.connectionBody = {\n",
    "            \"dbParms\": {\n",
    "            \"dbHost\": dbHost,\n",
    "            \"dbName\": dbName,\n",
    "            \"dbPort\": dbPort,\n",
    "            \"isSSLConnection\": isSSLConnection,\n",
    "            \"username\": dbUsername,\n",
    "            \"password\": dbPassword\n",
    "            },\n",
    "            \"expiryTime\": expiryTime\n",
    "        }\n",
    "        try:\n",
    "            response = requests.post(\"{}{}\".format(self.RESTServiceURL,self.API_auth), verify=self.Verify, headers=self.headers, json=self.connectionBody)\n",
    "            print (response)\n",
    "        except Exception as e:\n",
    "            print(\"Unable to call RESTful service. Error={}\".format(repr(e)))\n",
    "            \n",
    "        if (response.status_code == 200):\n",
    "            self.token = response.json()[\"token\"]\n",
    "            print(\"Successfully connected and retrieved access token\")\n",
    "        else:\n",
    "            print(response)\n",
    "            print(response.json())\n",
    "            print(response.json()[\"errors\"])\n",
    "    \n",
    "        self.headers = {\n",
    "            \"authorization\": f\"{self.token}\",\n",
    "            \"content-type\": \"application/json\"\n",
    "        }\n",
    "        \n",
    "    def getConnection(self):\n",
    "        return self.connectionBody\n",
    "    \n",
    "    def getService(self):\n",
    "        return self.RESTServiceURL\n",
    "    \n",
    "    def getToken(self):\n",
    "        return(\"Token: {}\".format(self.token))\n",
    "    \n",
    "    def getVersion(self):\n",
    "        try:\n",
    "            print(\"{}{}\".format(self.RESTServiceURL,self.API_version))\n",
    "            response = requests.get(\"{}{}\".format(self.RESTServiceURL,self.API_version),verify=self.Verify)\n",
    "        except Exception as e:\n",
    "            print(\"Unable to call RESTful service. Error={}\".format(repr(e)))\n",
    "         \n",
    "        if (response.status_code == 200):\n",
    "            return response.json()['version']\n",
    "        else:\n",
    "            print(response)\n",
    "            print(response.json()['errors'][0]['more_info'])        \n",
    "        \n",
    "    def runStatement(self, sql, isQuery=True, sync=True, parameters={}):\n",
    "        body = {\n",
    "            \"isQuery\": isQuery,\n",
    "            \"sqlStatement\": sql,\n",
    "            \"sync\": sync,\n",
    "            \"parameters\": parameters\n",
    "        }\n",
    "        \n",
    "        try:\n",
    "            response = requests.post(\"{}{}\".format(self.RESTServiceURL,self.API_execsql), verify=self.Verify, headers=self.headers, json=body)\n",
    "        except Exception as e:\n",
    "            print(\"Unable to call RESTful service. Error={}\".format(repr(e)))\n",
    "         \n",
    "        if (response.status_code == 200):\n",
    "            return pd.DataFrame(response.json()['resultSet'])\n",
    "        elif (response.status_code == 202):\n",
    "            return response.json()[\"id\"]\n",
    "        else:\n",
    "            print(response.json()['errors'][0]['more_info'])\n",
    "            \n",
    "    def getResult(self, job_id, limit=0):\n",
    "        body = {\"limit\": limit}\n",
    "        \n",
    "        try:\n",
    "            response = requests.get(\"{}{}{}\".format(self.RESTServiceURL,self.API_services,job_id), verify=self.Verify, headers=self.headers, json=body)\n",
    "        except Exception as e:\n",
    "            print(\"Unable to call RESTful service. Error={}\".format(repr(e)))\n",
    "  \n",
    "        if (response.status_code == 200):\n",
    "            json = response.json()   \n",
    "            if (json['jobStatus'] == 2):\n",
    "                return json['jobStatusDescription']\n",
    "            elif (json['jobStatus'] == 3):\n",
    "                return pd.DataFrame(json['resultSet'])               \n",
    "            elif (json['jobStatus'] == 4):\n",
    "                return pd.DataFrame(json['resultSet'])  \n",
    "            else: \n",
    "                return json\n",
    "        elif (response.status_code == 404):\n",
    "            print(response.json()['errors'])  \n",
    "        elif  (response.status_code == 500):\n",
    "            print(response.json()['errors'][0]['more_info'])            \n",
    "        else:\n",
    "            print(response.json())\n",
    "            \n",
    "    def createServiceMetadata(self, serviceSchema=\"Db2REST\"):\n",
    "        self.serviceSchema = serviceSchema\n",
    "        body = {\"schema\": self.serviceSchema}\n",
    "        try:\n",
    "            response = requests.post(\"{}{}\".format(self.RESTServiceURL,self.API_makerest), verify=self.Verify, headers=self.headers, json=body)\n",
    "            if (response.status_code == 201):\n",
    "                print(response.reason)\n",
    "            else:\n",
    "                print(response.json())\n",
    "            \n",
    "        except Exception as e:\n",
    "            print(\"Unable to call RESTful service. Error={}\".format(repr(e)))\n",
    "            \n",
    "\n",
    "    def listServices(self):\n",
    "        try:\n",
    "            response = requests.get(\"{}{}\".format(self.RESTServiceURL,self.API_services), verify=self.Verify, headers=self.headers)\n",
    "            return pd.DataFrame(response.json()['Db2Services'])\n",
    "        except Exception as e:\n",
    "            print(\"Unable to call RESTful service. Error={}\".format(repr(e)))\n",
    "            \n",
    "    def getServiceDetails(self, serviceName, version):\n",
    "        try:\n",
    "            response = requests.get(\"{}{}{}{}\".format(self.RESTServiceURL,self.API_services,\"/\" + serviceName,\"/\" + version), verify=self.Verify, headers=self.headers)\n",
    "            print(response.status_code)\n",
    "            if (response.status_code == 200):\n",
    "                description = response.json()\n",
    "                print(\"Input parameters:\")\n",
    "                print(description[\"inputParameters\"])\n",
    "                print(\"Result format:\")\n",
    "                print(description[\"resultSetFields\"])\n",
    "            else:\n",
    "                print(response.json())        \n",
    "        except Exception as e:\n",
    "            print(\"Unable to call RESTful service. Error={}\".format(repr(e)))            \n",
    "            \n",
    "    def createService(self, schema, serviceDescription, serviceName, sql, version, parameters=False, isQuery=True):\n",
    "        if (parameters==False):\n",
    "            body = {\"isQuery\": isQuery,\n",
    "                \"schema\": schema,\n",
    "                \"serviceDescription\": serviceDescription,\n",
    "                \"serviceName\": serviceName,\n",
    "                \"sqlStatement\": sql.replace(\"\\n\",\"\"),\n",
    "                \"version\": version\n",
    "            } \n",
    "        else: \n",
    "            body = {\"isQuery\": isQuery,\n",
    "                \"schema\": schema,\n",
    "                \"serviceDescription\": serviceDescription,\n",
    "                \"serviceName\": serviceName,\n",
    "                \"sqlStatement\": sql.replace(\"\\n\",\"\"),\n",
    "                \"version\": version,\n",
    "                \"parameters\": parameters\n",
    "            } \n",
    "        \n",
    "        try:\n",
    "            response = requests.post(\"{}{}\".format(self.RESTServiceURL,self.API_services), verify=self.Verify, headers=self.headers, json=body)\n",
    "        except Exception as e:\n",
    "            print(\"Unable to call RESTful service. Error={}\".format(repr(e)))\n",
    "            \n",
    "        if (response.status_code == 201):\n",
    "             print(\"Service: \" + serviceName + \" Version: \" + version + \" created\")\n",
    "        else:\n",
    "            print(response.json())  \n",
    "            \n",
    "    def deleteService(self, serviceName, version):\n",
    "        try:\n",
    "            response = requests.delete(\"{}{}{}{}\".format(self.RESTServiceURL,self.API_services,\"/\" + serviceName,\"/\" + version), verify=self.Verify, headers=self.headers)\n",
    "        except Exception as e:\n",
    "            print(\"Unable to call RESTful service. Error={}\".format(repr(e)))\n",
    "            \n",
    "        if (response.status_code == 204):\n",
    "            print(\"Service: \" + serviceName + \" Version: \" + version + \" deleted\")\n",
    "        else:\n",
    "            print(response.json())   \n",
    "            \n",
    "    def callService(self, serviceName, version, parameters, sync=True):\n",
    "        body = {\n",
    "            \"parameters\": parameters,\n",
    "            \"sync\": sync\n",
    "        }\n",
    "        try:\n",
    "            response = requests.post(\"{}{}{}{}\".format(self.RESTServiceURL,self.API_services,\"/\" + serviceName,\"/\" + version), verify=self.Verify, headers=self.headers, json=body)\n",
    "            if (response.status_code == 200):\n",
    "                return pd.DataFrame(response.json()['resultSet'])\n",
    "            elif (response.status_code == 202):\n",
    "                return response.json()[\"id\"]\n",
    "            else:\n",
    "                print(response.json()['errors'][0]['more_info'])\n",
    "                \n",
    "        except Exception as e:\n",
    "            if (repr(e) == \"KeyError('more_info',)\"): \n",
    "                print(\"Service not found\")\n",
    "            else: \n",
    "                print(\"Unable to call RESTful service. Error={}\".format(repr(e)))\n",
    "                \n",
    "    def monitorJobs(self):\n",
    "        try:\n",
    "            response = requests.get(\"{}{}\".format(self.RESTServiceURL,self.API_monitor), verify=self.Verify, headers=self.headers)\n",
    "            if (response.status_code == 200):\n",
    "                return pd.DataFrame(response.json()['MonitorServices'])\n",
    "            else:\n",
    "                print(response.json())    \n",
    "        except Exception as e:\n",
    "            print(\"Unable to call RESTful service. Error={}\".format(repr(e)))                 "
   ]
  },
  {
   "cell_type": "markdown",
   "metadata": {
    "id": "5f443d8a-1428-4b5b-a3bb-5adc963dc96a"
   },
   "source": [
    "### Setting up a Db2 RESTful Endpoint Service Class instance\n",
    "To use the class first create an instance of the class. The cell below creates an object called **Db2RESTService** from the **Db2REST** class. The first call to the object is **getVersion** to confirm the version of the RESTful Endpoint Service you are connected to."
   ]
  },
  {
   "cell_type": "markdown",
   "metadata": {
    "id": "e9f41a10-e98c-458d-b915-b1e4ceaaf4f4"
   },
   "source": [
    "#### Connecting to the service to the database\n",
    "Unless your service is already bound to a single database, the call below connects it to a single Db2 database. You can run this command again to connect to a different database from the same RESTful Endpoint service. "
   ]
  },
  {
   "cell_type": "code",
   "execution_count": null,
   "metadata": {
    "id": "3b8e711a617c4a758fb7706305e08c17"
   },
   "outputs": [],
   "source": [
    "Db2RESTService = Db2REST(\"https://10.0.0.201:31315\")"
   ]
  },
  {
   "cell_type": "code",
   "execution_count": null,
   "metadata": {
    "id": "69b7e8fe4e4942c0909d6cd2ea4b652f"
   },
   "outputs": [],
   "source": [
    "print(\"Db2 RESTful Endpoint Service Version: \" + Db2RESTService.getVersion())"
   ]
  },
  {
   "cell_type": "markdown",
   "metadata": {
    "id": "98373f4cc90f4818829302b37289ed51"
   },
   "source": [
    "#### Connect to Db2 OLTP"
   ]
  },
  {
   "cell_type": "code",
   "execution_count": null,
   "metadata": {
    "id": "2b41739a-2ce4-4fc0-a7bc-f86561713e3e",
    "scrolled": false
   },
   "outputs": [],
   "source": [
    "Db2RESTService.connectDatabase(\"10.0.0.201\", \"STOCKS\", 32443, False, \"admin\", \"CP4DDataFabric\")"
   ]
  },
  {
   "cell_type": "markdown",
   "metadata": {
    "id": "42339b6bd4224cbe8bf610c21e68f7d1"
   },
   "source": [
    "#### Connect to DV"
   ]
  },
  {
   "cell_type": "code",
   "execution_count": null,
   "metadata": {
    "id": "9a911b6db1f14157b620e066bb61a495",
    "scrolled": false
   },
   "outputs": [],
   "source": [
    "Db2RESTService.connectDatabase(\"10.0.0.201\", \"BIGSQL\", 31193, False, \"admin\", \"CP4DDataFabric\")"
   ]
  },
  {
   "cell_type": "markdown",
   "metadata": {
    "id": "6636f07b-aeba-4cd9-93b4-32977b686fd2"
   },
   "source": [
    "#### Confirming the service settings\n",
    "Once the connection to the RESTful Endpoint Service and Db2 is established you can always check your settings using the following calls."
   ]
  },
  {
   "cell_type": "code",
   "execution_count": null,
   "metadata": {
    "id": "70042eca-06b1-4ce6-82bb-02ab6236daa0"
   },
   "outputs": [],
   "source": [
    "print(Db2RESTService.getService())"
   ]
  },
  {
   "cell_type": "code",
   "execution_count": null,
   "metadata": {
    "id": "5f15dc3e-8888-465f-a5f3-fe2f8a945f97"
   },
   "outputs": [],
   "source": [
    "print(Db2RESTService.getConnection())"
   ]
  },
  {
   "cell_type": "code",
   "execution_count": null,
   "metadata": {
    "id": "406772cc-3f8a-4a97-a6ec-b0161e54c2f4"
   },
   "outputs": [],
   "source": [
    "print(Db2RESTService.getToken())"
   ]
  },
  {
   "cell_type": "markdown",
   "metadata": {
    "id": "f8604abc-344e-4712-9449-f8b43c3cbe40"
   },
   "source": [
    "### Running SQL Through the Service\n",
    "You can run an SQL Statement through the RESTful service as a simple text string.\n",
    "\n",
    "Let's start by defining the SQL to run:"
   ]
  },
  {
   "cell_type": "code",
   "execution_count": null,
   "metadata": {
    "id": "a8a51612-7d90-45a2-9e73-270f35fbf717"
   },
   "outputs": [],
   "source": [
    "sql = \\\n",
    "\"\"\"\n",
    "SELECT AC.\"TAIL_NUMBER\", AC.\"MANUFACTURER\", AC.\"MODEL\", OT.\"FLIGHTDATE\", OT.\"UNIQUECARRIER\", OT.\"AIRLINEID\", OT.\"CARRIER\", OT.\"TAILNUM\", OT.\"FLIGHTNUM\", OT.\"ORIGINAIRPORTID\", OT.\"ORIGINAIRPORTSEQID\", OT.\"ORIGINCITYNAME\", OT.\"ORIGINSTATE\", OT.\"DESTAIRPORTID\", OT.\"DESTCITYNAME\", OT.\"DESTSTATE\", OT.\"DEPTIME\", OT.\"DEPDELAY\", OT.\"TAXIOUT\", OT.\"WHEELSOFF\", OT.\"WHEELSON\", OT.\"TAXIIN\", OT.\"ARRTIME\", OT.\"ARRDELAY\", OT.\"ARRDELAYMINUTES\", OT.\"CANCELLED\", OT.\"AIRTIME\", OT.\"DISTANCE\"\n",
    "  FROM \"ONTIME\".\"ONTIME\" OT, \"ONTIME\".\"AIRCRAFT\" AC \n",
    "  WHERE AC.\"TAIL_NUMBER\" = OT.TAILNUM\n",
    "  AND ORIGINSTATE = 'NJ'\n",
    "  AND DESTSTATE = 'CA'\n",
    "  AND AC.MANUFACTURER = 'Boeing' \n",
    "  AND AC.MODEL LIKE 'B737%'\n",
    "  AND OT.TAXIOUT > 30\n",
    "  AND OT.DISTANCE > 2000\n",
    "  AND OT.DEPDELAY > 300\n",
    "  ORDER BY OT.DEPDELAY DESC\n",
    "  FETCH FIRST 5 ROWS ONLY;\n",
    "\"\"\""
   ]
  },
  {
   "cell_type": "markdown",
   "metadata": {
    "id": "f1daf325-7804-432f-bd80-976ed01b9e7d"
   },
   "source": [
    "Now a single call to the **runStatement** routine runs the SQL synchronously and returns the result as a DataFrame"
   ]
  },
  {
   "cell_type": "code",
   "execution_count": null,
   "metadata": {
    "id": "d6d00518-4bc7-46d0-9a6c-178f6cde8be9"
   },
   "outputs": [],
   "source": [
    "sql = \"SELECT * FROM SYSCAT.TABLES\"\n",
    "result = (Db2RESTService.runStatement(sql))\n",
    "display(result)"
   ]
  },
  {
   "cell_type": "markdown",
   "metadata": {
    "id": "bbae96a5-576f-460b-b191-1743af503ffa"
   },
   "source": [
    "You can also run the statement asynchronously so you don't have to wait for the result. In this case the result is the statement identifier that you can use to check the statement status."
   ]
  },
  {
   "cell_type": "code",
   "execution_count": null,
   "metadata": {
    "id": "239bd6f1-4ebd-4489-bb9f-0afcec927912"
   },
   "outputs": [],
   "source": [
    "statementID = (Db2RESTService.runStatement(sql, sync=False))\n",
    "display(statementID)"
   ]
  },
  {
   "cell_type": "markdown",
   "metadata": {
    "id": "3e940e4e-c4b7-443e-9bf0-017cdaaa27c4"
   },
   "source": [
    "If you have several statements running at the same time you can check to see their status with the **monitorStatus** routine and see where they are in the service queue. "
   ]
  },
  {
   "cell_type": "code",
   "execution_count": null,
   "metadata": {
    "id": "41561bca-ed00-40a5-9522-342156b3cbec"
   },
   "outputs": [],
   "source": [
    "services = Db2RESTService.monitorJobs()\n",
    "display(services)"
   ]
  },
  {
   "cell_type": "markdown",
   "metadata": {
    "id": "11febb87-18c3-4dfb-864d-bbe00698ee2e"
   },
   "source": [
    "You can try to get the results of the statment by passing the statement identifier into the getResults routine. If the statement has finished running it will return a result set as a DataFrame. It is still running, a message is returned."
   ]
  },
  {
   "cell_type": "code",
   "execution_count": null,
   "metadata": {
    "id": "e85285f2-7c28-4e0f-abc3-536f4933be2a"
   },
   "outputs": [],
   "source": [
    "result = (Db2RESTService.getResult(statementID))\n",
    "display(result)"
   ]
  },
  {
   "cell_type": "markdown",
   "metadata": {
    "id": "15a285a5-bf7e-4545-8971-d7725752a434"
   },
   "source": [
    "#### Passing Parameters when running SQL Statements\n",
    "You can also define a single SQL statement with ? parameters and call that statement with different values using the same **runStatement** routine. "
   ]
  },
  {
   "cell_type": "code",
   "execution_count": null,
   "metadata": {
    "id": "cbea4722-8fbc-4ae5-8f3e-38da3807072b"
   },
   "outputs": [],
   "source": [
    "sqlparm = \\\n",
    "\"\"\"\n",
    "SELECT AC.\"TAIL_NUMBER\", AC.\"MANUFACTURER\", AC.\"MODEL\", OT.\"FLIGHTDATE\", OT.\"UNIQUECARRIER\", OT.\"AIRLINEID\", OT.\"CARRIER\", OT.\"TAILNUM\", OT.\"FLIGHTNUM\", OT.\"ORIGINAIRPORTID\", OT.\"ORIGINAIRPORTSEQID\", OT.\"ORIGINCITYNAME\", OT.\"ORIGINSTATE\", OT.\"DESTAIRPORTID\", OT.\"DESTCITYNAME\", OT.\"DESTSTATE\", OT.\"DEPTIME\", OT.\"DEPDELAY\", OT.\"TAXIOUT\", OT.\"WHEELSOFF\", OT.\"WHEELSON\", OT.\"TAXIIN\", OT.\"ARRTIME\", OT.\"ARRDELAY\", OT.\"ARRDELAYMINUTES\", OT.\"CANCELLED\", OT.\"AIRTIME\", OT.\"DISTANCE\"\n",
    "  FROM \"ONTIME\".\"ONTIME\" OT, \"ONTIME\".\"AIRCRAFT\" AC \n",
    "  WHERE AC.\"TAIL_NUMBER\" = OT.TAILNUM\n",
    "  AND ORIGINSTATE = ?\n",
    "  AND DESTSTATE = ?\n",
    "  AND AC.MANUFACTURER = 'Boeing' \n",
    "  AND AC.MODEL LIKE 'B737%'\n",
    "  AND OT.TAXIOUT > 30\n",
    "  AND OT.DISTANCE > 2000\n",
    "  AND OT.DEPDELAY > ?\n",
    "  ORDER BY OT.DEPDELAY DESC\n",
    "  FETCH FIRST 10 ROWS ONLY;\n",
    "\"\"\""
   ]
  },
  {
   "cell_type": "code",
   "execution_count": null,
   "metadata": {
    "id": "a3ed0295-9086-40b9-b114-d6ed0cc50cc0"
   },
   "outputs": [],
   "source": [
    "result = Db2RESTService.runStatement(sqlparm,parameters={\"1\": 'NY', \"2\": 'CA', \"3\" : 300})\n",
    "display(result)"
   ]
  },
  {
   "cell_type": "code",
   "execution_count": null,
   "metadata": {
    "id": "4af2b415-86fd-46bd-b7cd-6df2c06632ff",
    "scrolled": true
   },
   "outputs": [],
   "source": [
    "result = Db2RESTService.runStatement(sqlparm,parameters={\"1\": 'NJ', \"2\": 'CA', \"3\" : 200})\n",
    "display(result)"
   ]
  },
  {
   "cell_type": "markdown",
   "metadata": {
    "id": "9e2643a3-7440-4e1a-8d49-393468c136ca"
   },
   "source": [
    "#### Limiting Results\n",
    "You also have full control of how many rows in an answer set to return. Run the following statement using **sync=False**"
   ]
  },
  {
   "cell_type": "code",
   "execution_count": null,
   "metadata": {
    "id": "1f65d812-b1f4-4e5f-ac4d-77a8aa3438fd"
   },
   "outputs": [],
   "source": [
    "statementID = Db2RESTService.runStatement(sqlparm, sync=False, parameters={\"1\": 'NJ', \"2\": 'CA', \"3\" : 200})\n",
    "display(statementID)\n",
    "result = (Db2RESTService.getResult(statementID))\n",
    "display(result)"
   ]
  },
  {
   "cell_type": "markdown",
   "metadata": {
    "id": "52a2676f-34e8-4556-a6aa-9ac40229e012"
   },
   "source": [
    "This time the **getResult** routine include a parameter to limit the result set to 5 rows. "
   ]
  },
  {
   "cell_type": "code",
   "execution_count": null,
   "metadata": {
    "id": "542623b4-de0b-4030-981e-838d177080d4"
   },
   "outputs": [],
   "source": [
    "result = (Db2RESTService.getResult(statementID, limit=5))\n",
    "display(result)"
   ]
  },
  {
   "cell_type": "markdown",
   "metadata": {
    "id": "f22d7493-7968-4dc1-96b8-cd8ab2beb6b6"
   },
   "source": [
    "The next cell retrieves the remaining rows."
   ]
  },
  {
   "cell_type": "code",
   "execution_count": null,
   "metadata": {
    "id": "79e4d470-78d8-44e6-9f55-e53731ede199"
   },
   "outputs": [],
   "source": [
    "result = (Db2RESTService.getResult(statementID))\n",
    "display(result)"
   ]
  },
  {
   "cell_type": "markdown",
   "metadata": {
    "id": "c858e253-6671-48cb-a7ed-f2dc13566f0e"
   },
   "source": [
    "After all the rows have been returned the job history is removed. If you try to retrieve the results for this statement now the service won't find it."
   ]
  },
  {
   "cell_type": "code",
   "execution_count": null,
   "metadata": {
    "id": "c3dc10f3-adac-4d38-b93b-8bc244ba7dd9"
   },
   "outputs": [],
   "source": [
    "result = (Db2RESTService.getResult(statementID))\n",
    "display(result)"
   ]
  },
  {
   "cell_type": "markdown",
   "metadata": {
    "id": "5ac82492-da4e-4d81-9bc5-7cdf1b5fe185"
   },
   "source": [
    "### Creating and Running Endpoint Services\n",
    "If the MetaData tables have not already been created in your database you can use the following call to create the MetaData in the schema of your choice. In this case **DB2REST**."
   ]
  },
  {
   "cell_type": "code",
   "execution_count": null,
   "metadata": {
    "id": "78ca0bfe-deef-443b-9cce-17f05922e79f"
   },
   "outputs": [],
   "source": [
    "Db2RESTService.createServiceMetadata(\"DB2REST\")"
   ]
  },
  {
   "cell_type": "markdown",
   "metadata": {
    "id": "d2ba3467-acfe-43ea-929d-4a97e68040b9"
   },
   "source": [
    "Let's start by defining the SQL statement. It can include parameters that have to be idenfied with an amersand \"@\"."
   ]
  },
  {
   "cell_type": "code",
   "execution_count": null,
   "metadata": {
    "id": "e4a8f898-fcb8-4aee-bde7-5576de646873"
   },
   "outputs": [],
   "source": [
    "sql = \\\n",
    "\"\"\"\n",
    "SELECT COUNT(AC.\"TAIL_NUMBER\") FROM \"ONTIME\".\"ONTIME\" OT, \"ONTIME\".\"AIRCRAFT\" AC \n",
    "  WHERE AC.\"TAIL_NUMBER\" = OT.TAILNUM\n",
    "  AND ORIGINSTATE = @STATE\n",
    "  AND DESTSTATE = 'CA'\n",
    "  AND AC.MANUFACTURER = 'Boeing' \n",
    "  AND AC.MODEL LIKE 'B737%'\n",
    "  AND OT.TAXIOUT > 30\n",
    "  AND OT.DISTANCE > 2000\n",
    "  AND OT.DEPDELAY > @DELAY\n",
    "  FETCH FIRST 5 ROWS ONLY\n",
    "\"\"\""
   ]
  },
  {
   "cell_type": "markdown",
   "metadata": {
    "id": "8a598462-2a4d-4db8-ade9-f872e7fbdf97"
   },
   "source": [
    "Now we can create the service, including the two parameters, using the **createService** routine. "
   ]
  },
  {
   "cell_type": "code",
   "execution_count": null,
   "metadata": {
    "id": "89b47725-e385-4346-bb65-44e7fe733441"
   },
   "outputs": [],
   "source": [
    "parameters = [{\"datatype\": \"CHAR(2)\",\"name\": \"@STATE\"},{\"datatype\": \"INT\",\"name\": \"@DELAY\"}]\n",
    "schema = 'DEMO'\n",
    "serviceDescription = 'Delay'\n",
    "serviceName = 'delay'\n",
    "version = '1.0'\n",
    "\n",
    "Db2RESTService.createService(schema, serviceDescription, serviceName, sql, version, parameters)"
   ]
  },
  {
   "cell_type": "markdown",
   "metadata": {
    "id": "156260ea-5971-404f-a794-0d2d7754ae22"
   },
   "source": [
    "A call to the **listServices** routine confirms that you have created the new service. "
   ]
  },
  {
   "cell_type": "code",
   "execution_count": null,
   "metadata": {
    "id": "e5e29389-7b84-4884-9519-921ddd8dcf76"
   },
   "outputs": [],
   "source": [
    "services = Db2RESTService.listServices()\n",
    "display(services)"
   ]
  },
  {
   "cell_type": "markdown",
   "metadata": {
    "id": "742578b8-3080-4e82-b732-d62e9686273b"
   },
   "source": [
    "You can also see the details for any service using the **getServiceDetails** routine."
   ]
  },
  {
   "cell_type": "code",
   "execution_count": null,
   "metadata": {
    "id": "e3aa3fa5-129f-4a14-b3cd-a8653bc601d3",
    "scrolled": true
   },
   "outputs": [],
   "source": [
    "details = Db2RESTService.getServiceDetails(\"delay\",\"1.0\")\n",
    "display(details)"
   ]
  },
  {
   "cell_type": "markdown",
   "metadata": {
    "id": "6c586ce1-51f7-4aab-8862-946fa61f64d3"
   },
   "source": [
    "You can all the new service using the **callService** routine. The parameters are passed into call using an array of values. By default the call is synchronous so you have to wait for the results. "
   ]
  },
  {
   "cell_type": "code",
   "execution_count": null,
   "metadata": {
    "id": "7e3799e5-4fff-4cb6-968c-17e2f77afba4"
   },
   "outputs": [],
   "source": [
    "serviceName = 'delay'\n",
    "version = '1.0'\n",
    "parameters = {\"@STATE\": \"NJ\",\"@DELAY\":\"200\"}\n",
    "result = Db2RESTService.callService(serviceName, version, parameters)\n",
    "display(result)"
   ]
  },
  {
   "cell_type": "markdown",
   "metadata": {
    "id": "1fd27000-0d8b-469f-8719-48ed261dc734"
   },
   "source": [
    "You can also call the service asychronously, just like we did with SQL statements earlier. Notice the additional parameter **sync=False**. Since the cell below immediately checks the status of the job you can see it has been queued. "
   ]
  },
  {
   "cell_type": "code",
   "execution_count": null,
   "metadata": {
    "id": "e925095d-fb1d-4d9c-b14c-909cfcff6cd4"
   },
   "outputs": [],
   "source": [
    "serviceName = 'delay'\n",
    "version = '1.0'\n",
    "parameters = {\"@STATE\": \"NJ\",\"@DELAY\":\"200\"}\n",
    "statementID = Db2RESTService.callService(serviceName, version, parameters, sync=False)\n",
    "display(statementID)  \n",
    "display(Db2RESTService.monitorJobs())"
   ]
  },
  {
   "cell_type": "markdown",
   "metadata": {
    "id": "697fc6a4-a567-4f71-88e5-212fd3b6d7fe"
   },
   "source": [
    "Run **monitorJobs** again to confirm that the endpoint service has completed the request."
   ]
  },
  {
   "cell_type": "code",
   "execution_count": null,
   "metadata": {
    "id": "0119dfb8-5025-4ef7-b48d-8b86b727bac2"
   },
   "outputs": [],
   "source": [
    "services = Db2RESTService.monitorJobs()\n",
    "display(services)"
   ]
  },
  {
   "cell_type": "markdown",
   "metadata": {
    "id": "e7d3de49-7dc2-47cb-981d-0aea54fccf81"
   },
   "source": [
    "And retrieve the result set."
   ]
  },
  {
   "cell_type": "code",
   "execution_count": null,
   "metadata": {
    "id": "98ce292f-56d6-4d82-a8a5-9e18fe245043"
   },
   "outputs": [],
   "source": [
    "result = (Db2RESTService.getResult(statementID))\n",
    "display(result)"
   ]
  },
  {
   "cell_type": "markdown",
   "metadata": {
    "id": "03378001-c3b1-4a63-a03b-4c3434963fa7"
   },
   "source": [
    "You can also delete an existing endpoint service with a call to the **deleteService** routine."
   ]
  },
  {
   "cell_type": "code",
   "execution_count": null,
   "metadata": {
    "id": "072f9ae2-af5e-4731-acd8-846fe9bed9ed"
   },
   "outputs": [],
   "source": [
    "serviceName = 'delay'\n",
    "version = '1.0'\n",
    "Db2RESTService.deleteService(serviceName, version)"
   ]
  },
  {
   "cell_type": "markdown",
   "metadata": {
    "id": "f943bce1-549d-4161-8635-936235e8f917"
   },
   "source": [
    "#### Using a service to query the Catalog\n",
    "You can also think about creating services to explore the database catalog. For example, here is a service that accepts a schema as an input parameter and returns a list of tables in the schema. "
   ]
  },
  {
   "cell_type": "code",
   "execution_count": null,
   "metadata": {
    "id": "34e96fb4-87e9-4a19-afc7-2e84ee22e559"
   },
   "outputs": [],
   "source": [
    "sql = \\\n",
    "\"\"\"\n",
    "SELECT TABSCHEMA, TABNAME, ALTER_TIME FROM SYSCAT.TABLES WHERE TABSCHEMA = @SCHEMA\n",
    "\"\"\"\n",
    "\n",
    "parameters = [{\"datatype\": \"VARCHAR(64)\",\"name\": \"@SCHEMA\"}]\n",
    "schema = 'DEMO'\n",
    "serviceDescription = 'Tables'\n",
    "serviceName = 'tables'\n",
    "version = '1.0'\n",
    "\n",
    "Db2RESTService.createService(schema, serviceDescription, serviceName, sql, version, parameters)"
   ]
  },
  {
   "cell_type": "code",
   "execution_count": null,
   "metadata": {
    "id": "a9bfe614-8e24-4ba6-bb55-1a84d3635909"
   },
   "outputs": [],
   "source": [
    "serviceName = 'tables'\n",
    "version = '1.0'\n",
    "result = Db2RESTService.callService(serviceName, version, parameters = {\"@SCHEMA\": \"SYSCAT\"}, sync=True)\n",
    "display(result)"
   ]
  },
  {
   "cell_type": "markdown",
   "metadata": {
    "id": "f48ff55c-6e3a-48d4-a09b-110f2e265f1f"
   },
   "source": [
    "### Incorporating the Db2 RESTFul Endpoint Class into your Python scipts\n",
    "The Db2 RESTful Endpoint Class is available on GIT at https://github.com/Db2-DTE-POC/CPDDVHOL4/blob/main/RESTfulEndpointServiceClass402.ipynb. You can download a copy into your own Python library and add **%run db2restendpoint.ipynb** to your own Python notebook. You can also include the following two lines which will automatically download a copy of the library from GIT and run the Class code. "
   ]
  },
  {
   "cell_type": "code",
   "execution_count": null,
   "metadata": {
    "id": "3397f478-9cf3-45e1-961f-46801e36770f"
   },
   "outputs": [],
   "source": [
    "!wget -O db2restendpoint.ipynb https://raw.githubusercontent.com/Db2-DTE-POC/CPDDVHOL4/main/RESTfulEndpointServiceClass402.ipynb\n",
    "%run db2restendpoint.ipynb   "
   ]
  },
  {
   "cell_type": "code",
   "execution_count": null,
   "metadata": {
    "id": "391c79ad58ce48e481b9aa04e136a67a"
   },
   "outputs": [],
   "source": [
    "Db2RESTService = Db2REST(\"https://10.0.0.201:31315\")"
   ]
  },
  {
   "cell_type": "code",
   "execution_count": null,
   "metadata": {
    "id": "c8a4451c9895491d96e30410019ad20a"
   },
   "outputs": [],
   "source": [
    "print(\"Db2 RESTful Endpoint Service Version: \" + Db2RESTService.getVersion())"
   ]
  },
  {
   "cell_type": "markdown",
   "metadata": {
    "id": "d179c91c-0962-4dbd-a41d-9ad170e516c2"
   },
   "source": [
    "## What's Next\n",
    "Try experimenting. Create your own services. You can find out more at: https://www.ibm.com/support/producthub/db2/docs/content/SSEPGG_11.5.0/com.ibm.db2.luw.admin.rest.doc/doc/c_rest.html.\n",
    "\n",
    "Also check out the OpenAPI specification for the service. It includes coding examples in Python, CURL and JavaScript. \n",
    "\n",
    "If you are running this notebook from a browser running inside the Cloud Pak for Data cluster, click: http://10.0.0.4:50050/docs If you are running this from a browser from your own desktop, check your welcome note for the address of the Db2 RESTful Service at port 50050 and add **docs** to the end of the URL."
   ]
  }
 ],
 "metadata": {
  "kernelspec": {
   "display_name": "Python 3.8",
   "language": "python",
   "name": "python3"
  },
  "language_info": {
   "codemirror_mode": {
    "name": "ipython",
    "version": 3
   },
   "file_extension": ".py",
   "mimetype": "text/x-python",
   "name": "python",
   "nbconvert_exporter": "python",
   "pygments_lexer": "ipython3",
   "version": "3.8.11"
  }
 },
 "nbformat": 4,
 "nbformat_minor": 4
}
